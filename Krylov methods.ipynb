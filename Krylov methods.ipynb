{
 "cells": [
  {
   "cell_type": "code",
   "execution_count": 1,
   "metadata": {},
   "outputs": [],
   "source": [
    "from ipywidgets import interact\n",
    "import matplotlib.pyplot as plt\n",
    "import numpy as np\n",
    "from scipy import sparse\n",
    "from scipy.fftpack import dct"
   ]
  },
  {
   "cell_type": "code",
   "execution_count": 2,
   "metadata": {},
   "outputs": [],
   "source": [
    "def hamiltonian(N, t=1, mu=0):\n",
    "    \"\"\"Construct the Hamiltonian matrix for a simple 2D tight-binding model.\"\"\"\n",
    "    H = np.zeros(5*N**2)\n",
    "    i = np.zeros(5*N**2, int)\n",
    "    j = np.zeros(5*N**2, int)\n",
    "    ind = np.arange(N**2).reshape(N, N)\n",
    "    n = 0\n",
    "    for x, y in np.ndindex(N, N):\n",
    "        H[n] = -mu\n",
    "        i[n] = ind[x,y]\n",
    "        j[n] = ind[x,y]\n",
    "        n += 1\n",
    "        \n",
    "        H[n] = -t\n",
    "        i[n] = ind[x,y]\n",
    "        j[n] = ind[(x+1)%N,y]\n",
    "        n += 1\n",
    "        \n",
    "        H[n] = -t\n",
    "        i[n] = ind[(x+1)%N,y]\n",
    "        j[n] = ind[x,y]\n",
    "        n += 1\n",
    "        \n",
    "        H[n] = -t\n",
    "        i[n] = ind[x,y]\n",
    "        j[n] = ind[x,(y+1)%N]\n",
    "        n += 1\n",
    "        \n",
    "        H[n] = -t\n",
    "        i[n] = ind[x,(y+1)%N]\n",
    "        j[n] = ind[x,y]\n",
    "        n += 1\n",
    "        \n",
    "    return sparse.coo_matrix((H, (i, j)), shape=(N**2, N**2))"
   ]
  },
  {
   "cell_type": "code",
   "execution_count": 3,
   "metadata": {},
   "outputs": [],
   "source": [
    "H = hamiltonian(N=1000)\n",
    "\n",
    "# Calculate LDOS at (x,y) = (0,0)\n",
    "v0 = np.zeros(H.shape[0])\n",
    "v0[0] = 1\n",
    "\n",
    "omega = np.linspace(-5, 5, 501)\n",
    "delta = 0.01"
   ]
  },
  {
   "cell_type": "markdown",
   "metadata": {},
   "source": [
    "# Lanczos method"
   ]
  },
  {
   "cell_type": "code",
   "execution_count": 4,
   "metadata": {},
   "outputs": [],
   "source": [
    "def tridiagonalize(H, v0, N=100):\n",
    "    \"\"\"Calculate the Lanczos tridiagonalization for the starting vector v0.\n",
    "\n",
    "    H = [\n",
    "        [a[0], b[1],    0,    0, 0, ...],\n",
    "        [b[1], a[1], b[2],    0, 0, ...],\n",
    "        [   0, b[2], a[2], b[3], 0, ...],\n",
    "        ...\n",
    "        [0, ..., 0, b[N-2], a[N-2], b[N-1]],\n",
    "        [0, ..., 0,      0, b[N-1], a[N-1]],\n",
    "    ]\n",
    "\n",
    "    Parameters\n",
    "    ----------\n",
    "    H : sparse matrix\n",
    "        Matrix to tridiagonalize.\n",
    "    v0 : array_like\n",
    "        Starting vector.\n",
    "    N : int\n",
    "        Dimension of Krylov subspace.\n",
    "\n",
    "    Returns\n",
    "    -------\n",
    "    a, b : ndarray\n",
    "        Diagonal and off-diagonal elements.\n",
    "    \"\"\"\n",
    "    a = np.zeros(N)\n",
    "    b = np.zeros(N)\n",
    "    \n",
    "    # Normalize\n",
    "    v = v0 / np.linalg.norm(v0)\n",
    "    # |w> = H |v_0>\n",
    "    w = H.dot(v)\n",
    "    # a_0 = <v_0|H|v_0>\n",
    "    a[0] = np.vdot(v, w).real\n",
    "    for n in range(1, N):\n",
    "        # |w> = b_n |v_n>\n",
    "        w -= a[n-1] * v\n",
    "        # b = <w|w>**0.5\n",
    "        b[n] = np.linalg.norm(w)\n",
    "        # |v_n> = |w> / b_n\n",
    "        w *= 1/b[n]\n",
    "        # |v> = -b_n |v_{n-1}>\n",
    "        v *= -b[n]\n",
    "        # |v_{n+1}>, |v_n> = |v_n>, |v_{n-1}>\n",
    "        v, w = w, v\n",
    "        # |w> = H |v_n> - b_n |v_{n-1}>\n",
    "        w += H.dot(v)\n",
    "        # a_n = <v_n|H|v_n> - b_n <v_n|v_{n-1}>\n",
    "        a[n] = np.vdot(v, w).real\n",
    "    return a, b\n",
    "\n",
    "\n",
    "def greens_function(z, a, b):\n",
    "    \"\"\"Calculate the Green's function from Lanczos tridiagonalization.\"\"\"\n",
    "    G = z - a[-1]\n",
    "    for n in reversed(range(len(a)-1)):\n",
    "        G = z - a[n] - b[n+1]**2 / G\n",
    "    return 1 / G"
   ]
  },
  {
   "cell_type": "code",
   "execution_count": 5,
   "metadata": {},
   "outputs": [],
   "source": [
    "a, b = tridiagonalize(H, v0, N=1000)\n",
    "ldos = -greens_function(omega+1j*delta, a, b).imag / np.pi"
   ]
  },
  {
   "cell_type": "code",
   "execution_count": 6,
   "metadata": {},
   "outputs": [
    {
     "data": {
      "image/png": "[encoded data removed]",
      "text/plain": [
       "<Figure size 432x288 with 1 Axes>"
      ]
     },
     "metadata": {
      "needs_background": "light"
     },
     "output_type": "display_data"
    }
   ],
   "source": [
    "fig, ax = plt.subplots()\n",
    "ax.plot(omega, ldos)\n",
    "ax.set_xlim(omega[0], omega[-1])\n",
    "ax.set_ylim(0)\n",
    "ax.set_xlabel(r'$\\omega$ [$t$]')\n",
    "ax.set_ylabel('LDOS')\n",
    "plt.show()"
   ]
  },
  {
   "cell_type": "code",
   "execution_count": 7,
   "metadata": {},
   "outputs": [
    {
     "data": {
      "application/vnd.jupyter.widget-view+json": {
       "model_id": "81afd7d3aa0b4daf9585af49a1c6c4d2",
       "version_major": 2,
       "version_minor": 0
      },
      "text/plain": [
       "interactive(children=(IntSlider(value=1000, description='n', max=1000, min=100), FloatSlider(value=-2.0, descr…"
      ]
     },
     "metadata": {},
     "output_type": "display_data"
    }
   ],
   "source": [
    "@interact(n=(100, len(a)), log_delta=(-5., -1.))\n",
    "def plot_cutoff(n=1000, log_delta=-2):\n",
    "    ldos = -greens_function(omega+1j*10**log_delta, a[:n], b[:n]).imag / np.pi\n",
    "\n",
    "    fig, ax = plt.subplots()\n",
    "    ax.plot(omega, ldos)\n",
    "    ax.set_xlim(omega[0], omega[-1])\n",
    "    ax.set_ylim(0)\n",
    "    ax.set_xlabel(r'$\\omega$ [$t$]')\n",
    "    ax.set_ylabel('LDOS')\n",
    "    plt.show()"
   ]
  },
  {
   "cell_type": "markdown",
   "metadata": {},
   "source": [
    "# Kernel polynomial method"
   ]
  },
  {
   "cell_type": "code",
   "execution_count": 8,
   "metadata": {},
   "outputs": [],
   "source": [
    "def cheby(H, v0, N=100):\n",
    "    mu = np.empty(N)\n",
    "    v = v0.copy()\n",
    "    w = H.dot(v)\n",
    "    mu[0] = np.linalg.norm(v)**2\n",
    "    mu[1] = np.vdot(w, v)\n",
    "    \n",
    "    n = 2\n",
    "    while True:\n",
    "        # |v_{n+1}> = 2H|v_n> - |v_{n-1}>\n",
    "        v *= -1\n",
    "        v += 2*H.dot(w)\n",
    "        \n",
    "        # μ_{2n} = 2<v_n|v_n> - μ_0\n",
    "        mu[n] = 2*np.linalg.norm(w)**2 - mu[0]\n",
    "        n += 1\n",
    "        if n >= N: break\n",
    "        \n",
    "        # μ_{2n+1} = 2<v_{n+1}|v_n> - μ_1\n",
    "        mu[n] = 2*np.vdot(v, w) - mu[1]\n",
    "        n += 1\n",
    "        if n >= N: break\n",
    "\n",
    "        # |v_{n+1}>, |v_n> = |v_n>, |v_{n-1}>\n",
    "        w, v = v, w\n",
    "\n",
    "    return mu"
   ]
  },
  {
   "cell_type": "code",
   "execution_count": 9,
   "metadata": {},
   "outputs": [],
   "source": [
    "_a = 8/(2-1e-3)\n",
    "_b = 0\n",
    "H_ = (H - _b*sparse.eye(H.shape[0])) / _a"
   ]
  },
  {
   "cell_type": "code",
   "execution_count": 10,
   "metadata": {},
   "outputs": [],
   "source": [
    "mu = cheby(H_, v0, N=1000)"
   ]
  },
  {
   "cell_type": "code",
   "execution_count": 11,
   "metadata": {},
   "outputs": [],
   "source": [
    "N = len(mu)\n",
    "n = np.arange(N)\n",
    "g = ((N-n+1) * np.cos(np.pi*n/(N+1)) + np.sin(np.pi*n/(N+1)) / np.tan(np.pi/(N+1))) / (N+1)\n",
    "\n",
    "M = 2*N\n",
    "m = np.arange(M)\n",
    "x = np.cos(np.pi*(m+0.5)/M)\n",
    "y = dct(g*mu, n=M, type=3) / (1-x**2)**0.5 / np.pi"
   ]
  },
  {
   "cell_type": "code",
   "execution_count": 12,
   "metadata": {},
   "outputs": [
    {
     "data": {
      "image/png": "[encoded data removed]",
      "text/plain": [
       "<Figure size 432x288 with 1 Axes>"
      ]
     },
     "metadata": {
      "needs_background": "light"
     },
     "output_type": "display_data"
    }
   ],
   "source": [
    "fig, ax = plt.subplots()\n",
    "ax.plot(_a*x+_b, y/_a)\n",
    "ax.set_xlim(omega[0], omega[-1])\n",
    "ax.set_ylim(0)\n",
    "ax.set_xlabel(r'$\\omega$ [$t$]')\n",
    "ax.set_ylabel('LDOS')\n",
    "plt.show()"
   ]
  },
  {
   "cell_type": "code",
   "execution_count": 13,
   "metadata": {},
   "outputs": [
    {
     "data": {
      "application/vnd.jupyter.widget-view+json": {
       "model_id": "ef4dbe989668428aab4aa90a883a18ca",
       "version_major": 2,
       "version_minor": 0
      },
      "text/plain": [
       "interactive(children=(IntSlider(value=1000, description='N', max=1000, min=100), FloatSlider(value=-2.0, descr…"
      ]
     },
     "metadata": {},
     "output_type": "display_data"
    }
   ],
   "source": [
    "@interact(N=(100, len(a)), log_delta=(-5., -1.))\n",
    "def compare_cutoff(N=1000, log_delta=-2):\n",
    "    delta = 10**log_delta\n",
    "    ldos = -greens_function(omega+1j*10**log_delta, a[:N], b[:N]).imag / np.pi\n",
    "    \n",
    "    n = np.arange(N)\n",
    "    g1 = ((N-n+1) * np.cos(np.pi*n/(N+1)) + np.sin(np.pi*n/(N+1)) / np.tan(np.pi/(N+1))) / (N+1)\n",
    "    g2 = np.sinh(delta*(N-n)) / np.sinh(delta*N)\n",
    "\n",
    "    M = 2*N\n",
    "    m = np.arange(M)\n",
    "    x = np.cos(np.pi*(m+0.5)/M)\n",
    "    y1 = dct(g1*mu[:N], n=M, type=3) / (1-x**2)**0.5 / np.pi\n",
    "    y2 = dct(g2*mu[:N], n=M, type=3) / (1-x**2)**0.5 / np.pi\n",
    "\n",
    "    fig, ax = plt.subplots()\n",
    "    ax.plot(omega, ldos, label='Lanczos')\n",
    "    ax.plot(_a*x+_b, y1/_a, label='Jackson')\n",
    "    ax.plot(_a*x+_b, y2/_a, label='Lorentz')\n",
    "    ax.legend()\n",
    "    ax.set_xlim(omega[0], omega[-1])\n",
    "    ax.set_ylim(0, 0.6)\n",
    "    ax.set_xlabel(r'$\\omega$ [$t$]')\n",
    "    ax.set_ylabel('LDOS')\n",
    "    plt.show()"
   ]
  },
  {
   "cell_type": "markdown",
   "metadata": {},
   "source": [
    "# KPM of delta function"
   ]
  },
  {
   "cell_type": "code",
   "execution_count": 14,
   "metadata": {},
   "outputs": [],
   "source": [
    "N = 200\n",
    "eps = 1e-3\n",
    "n = np.arange(N)\n",
    "mu = np.cos(n*np.pi/2)\n",
    "g1 = ((N-n+1) * np.cos(np.pi*n/(N+1)) + np.sin(np.pi*n/(N+1)) / np.tan(np.pi/(N+1))) / (N+1)\n",
    "g2 = np.sinh(eps*(N-n)) / np.sinh(eps*N)"
   ]
  },
  {
   "cell_type": "code",
   "execution_count": 15,
   "metadata": {},
   "outputs": [],
   "source": [
    "M = 2*N\n",
    "m = np.arange(M)\n",
    "x = np.cos(np.pi*(m+0.5)/M)\n",
    "y = dct(mu, n=M, type=3) / (1-x**2)**0.5 / np.pi\n",
    "y1 = dct(g1*mu, n=M, type=3) / (1-x**2)**0.5 / np.pi\n",
    "y2 = dct(g2*mu, n=M, type=3) / (1-x**2)**0.5 / np.pi"
   ]
  },
  {
   "cell_type": "code",
   "execution_count": 16,
   "metadata": {},
   "outputs": [
    {
     "data": {
      "image/png": "[encoded data removed]",
      "text/plain": [
       "<Figure size 432x288 with 1 Axes>"
      ]
     },
     "metadata": {
      "needs_background": "light"
     },
     "output_type": "display_data"
    }
   ],
   "source": [
    "fig, ax = plt.subplots()\n",
    "ax.plot(x, y, label='Dirichlet')\n",
    "ax.plot(x, y1, label='Jackson')\n",
    "ax.plot(x, y2, label='Lorentz')\n",
    "ax.legend()\n",
    "ax.set_xlim(-1, 1)\n",
    "ax.set_ylim(0)\n",
    "plt.show()"
   ]
  },
  {
   "cell_type": "code",
   "execution_count": 17,
   "metadata": {},
   "outputs": [
    {
     "data": {
      "application/vnd.jupyter.widget-view+json": {
       "model_id": "21215f355a334a87933f4862ee14a552",
       "version_major": 2,
       "version_minor": 0
      },
      "text/plain": [
       "interactive(children=(IntSlider(value=200, description='N', max=1000, min=100), FloatSlider(value=-3.0, descri…"
      ]
     },
     "metadata": {},
     "output_type": "display_data"
    }
   ],
   "source": [
    "@interact(N=(100, 1000), log_eps=(-5., -1.))\n",
    "def plot_delta(N=200, log_eps=-3):\n",
    "    eps = 10**log_eps\n",
    "    n = np.arange(N)\n",
    "    mu = np.cos(n*np.pi/2)\n",
    "    g1 = ((N-n+1) * np.cos(np.pi*n/(N+1)) + np.sin(np.pi*n/(N+1)) / np.tan(np.pi/(N+1))) / (N+1)\n",
    "    g2 = np.sinh(eps*(N-n)) / np.sinh(eps*N)\n",
    "\n",
    "    M = 2*N\n",
    "    m = np.arange(M)\n",
    "    x = np.cos(np.pi*(m+0.5)/M)\n",
    "    y = dct(mu, n=M, type=3) / (1-x**2)**0.5 / np.pi\n",
    "    y1 = dct(g1*mu, n=M, type=3) / (1-x**2)**0.5 / np.pi\n",
    "    y2 = dct(g2*mu, n=M, type=3) / (1-x**2)**0.5 / np.pi\n",
    "\n",
    "    fig, ax = plt.subplots()\n",
    "    ax.plot(x, y, label='Dirichlet')\n",
    "    ax.plot(x, y1, label='Jackson')\n",
    "    ax.plot(x, y2, label='Lorentz')\n",
    "    ax.legend()\n",
    "    ax.set_xlim(-1, 1)\n",
    "    ax.set_ylim(0)\n",
    "    plt.show()"
   ]
  },
  {
   "cell_type": "code",
   "execution_count": null,
   "metadata": {},
   "outputs": [],
   "source": []
  }
 ],
 "metadata": {
  "kernelspec": {
   "display_name": "Python (kwant)",
   "language": "python",
   "name": "kwant"
  },
  "language_info": {
   "codemirror_mode": {
    "name": "ipython",
    "version": 3
   },
   "file_extension": ".py",
   "mimetype": "text/x-python",
   "name": "python",
   "nbconvert_exporter": "python",
   "pygments_lexer": "ipython3",
   "version": "3.8.3"
  }
 },
 "nbformat": 4,
 "nbformat_minor": 4
}
