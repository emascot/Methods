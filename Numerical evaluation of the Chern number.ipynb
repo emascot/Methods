{
 "cells": [
  {
   "cell_type": "code",
   "execution_count": 1,
   "metadata": {},
   "outputs": [],
   "source": [
    "import matplotlib.pyplot as plt\n",
    "import numba\n",
    "import numpy as np"
   ]
  },
  {
   "cell_type": "markdown",
   "metadata": {},
   "source": [
    "As an example, consider the Hamiltonian for the Shiba lattice\n",
    "\n",
    "https://www.nature.com/articles/ncomms12297\n",
    "\n",
    "$$ H_k = \\tau_z \\left(\n",
    "\\varepsilon_k \\sigma_0 + \\boldsymbol{\\alpha}_k \\cdot \\boldsymbol{\\sigma}\n",
    "\\right)\n",
    "+ J \\tau_0 \\sigma_z\n",
    "+ \\Delta \\tau_x \\sigma_0 $$\n",
    "\n",
    "$$ \\varepsilon_k = -2t (\\cos(k_x) + \\cos(k_y)) - \\mu $$\n",
    "\n",
    "$$ \\boldsymbol{\\alpha}_k = -2\\alpha \\begin{pmatrix}\n",
    "\\sin(k_y) \\\\\n",
    "-\\sin(k_x) \\\\\n",
    "0\n",
    "\\end{pmatrix} $$"
   ]
  },
  {
   "cell_type": "code",
   "execution_count": 2,
   "metadata": {},
   "outputs": [],
   "source": [
    "@numba.njit\n",
    "def calc_Hk(k, params):\n",
    "    \"\"\"Calculate the Hamiltonian matrix in k-space.\n",
    "\n",
    "    Uses the spinor:\n",
    "    ψ† = (c†↑, c†↓, c↓, -c↑)\n",
    "\n",
    "    Parameters\n",
    "    ----------\n",
    "    k : array_like\n",
    "        Momentum (kx, ky).\n",
    "    params : list\n",
    "        List of parameters [t, μ, α, Δ, J].\n",
    "        t - hopping\n",
    "        μ - chemical potential\n",
    "        α - Rashba coupling\n",
    "        Δ - superconducting order parameter\n",
    "        J - Zeeman/exchange coupling\n",
    "\n",
    "    Returns\n",
    "    -------\n",
    "    Hk : ndarray\n",
    "        4x4 Hamiltonian matrix in τσ space.\n",
    "    \"\"\"\n",
    "    t, mu, alpha, Delta, J = params\n",
    "    \n",
    "    # Dispersion\n",
    "    epsk = -2*t*(np.cos(k[0]) + np.cos(k[1])) - mu\n",
    "    # Rashba\n",
    "    alpk = -2*alpha*np.array([np.sin(k[1]), -np.sin(k[0])])\n",
    "    # Construct matrix\n",
    "    return np.array([\n",
    "        [epsk+J, alpk[0]-1j*alpk[1], Delta, 0],\n",
    "        [alpk[0]+1j*alpk[1], epsk-J, 0, Delta],\n",
    "        [Delta, 0, -epsk+J, -alpk[0]+1j*alpk[1]],\n",
    "        [0, Delta, -alpk[0]-1j*alpk[1], -epsk-J]\n",
    "    ])"
   ]
  },
  {
   "cell_type": "code",
   "execution_count": 3,
   "metadata": {},
   "outputs": [],
   "source": [
    "@numba.njit\n",
    "def calc_Ek(Hk_func, Norb, params, Nk=256):\n",
    "    \"\"\"Calculate the energies on a meshgrid.\n",
    "\n",
    "    Parameters\n",
    "    ----------\n",
    "    Hk_func : function\n",
    "        Function that returns the Hamiltonian matrix.\n",
    "    Norb : int\n",
    "        Dimension of Hamiltonian matrix.\n",
    "    params : list\n",
    "        List of parameters.\n",
    "    Nk : int\n",
    "        Number of k-points in each direction.\n",
    "\n",
    "    Returns\n",
    "    -------\n",
    "    Ek : ndarray(Nk, Nk, Norb)\n",
    "        Energy eigenvalues.\n",
    "    \"\"\"\n",
    "    # Calculate evenly spaced k-points from 0 to 2π\n",
    "    k = 2*np.pi/Nk * np.arange(Nk)\n",
    "    Ek = np.empty((Nk, Nk, Norb))\n",
    "    for i in range(Nk):\n",
    "        for j in range(Nk):\n",
    "            # Get Hamiltonian\n",
    "            Hk = Hk_func((k[i], k[j]), params)\n",
    "            # Calculate eigenvalues\n",
    "            Ek[i,j] = np.linalg.eigvalsh(Hk)\n",
    "    return Ek"
   ]
  },
  {
   "cell_type": "code",
   "execution_count": 4,
   "metadata": {},
   "outputs": [],
   "source": [
    "Nk = 256\n",
    "params = 1., -4., 0.2, 0.3, 0.5"
   ]
  },
  {
   "cell_type": "code",
   "execution_count": 5,
   "metadata": {},
   "outputs": [],
   "source": [
    "kx, ky = 2*np.pi/Nk * np.mgrid[:Nk, :Nk]\n",
    "Ek = calc_Ek(calc_Hk, 4, params, Nk)"
   ]
  },
  {
   "cell_type": "code",
   "execution_count": 6,
   "metadata": {},
   "outputs": [
    {
     "data": {
      "image/png": "[encoded data removed]",
      "text/plain": [
       "<Figure size 432x288 with 1 Axes>"
      ]
     },
     "metadata": {
      "needs_background": "light"
     },
     "output_type": "display_data"
    }
   ],
   "source": [
    "fig, ax = plt.subplots()\n",
    "ax.plot(ky[0], Ek[0])\n",
    "ax.set_xlim(ky[0,0], ky[0,-1])\n",
    "ax.set_xlabel('$k_y$')\n",
    "ax.set_ylabel('$E_k$')\n",
    "plt.show()"
   ]
  },
  {
   "cell_type": "markdown",
   "metadata": {},
   "source": [
    "# Chern number using the projector representation"
   ]
  },
  {
   "cell_type": "markdown",
   "metadata": {},
   "source": [
    "$$ C = \\frac{1}{2\\pi i} \\int d^2k \\mathrm{Tr} P_k \\left[\n",
    "\\partial_{k_x} P_k, \\partial_{k_y} P_k\n",
    "\\right] $$\n",
    "\n",
    "$$\\approx \\frac{1}{2\\pi i} \\left(\\frac{2\\pi}{N}\\right)^2 \\sum_k \\mathrm{Tr} P_k \\left[\n",
    "\\partial_{k_x} P_k, \\partial_{k_y} P_k\n",
    "\\right] $$\n",
    "\n",
    "$$ P_k = \\sum_{E_k^{(n)} < 0} |\\psi_k^{(n)} \\rangle \\langle \\psi_k^{(n)} | $$"
   ]
  },
  {
   "cell_type": "markdown",
   "metadata": {},
   "source": [
    "Using the numpy definition for the DFT\n",
    "$$ F_k = \\sum_r f_r e^{-ikr} $$\n",
    "and the inverse\n",
    "$$ f_r = \\frac{1}{N} \\sum_k F_k e^{ikr} $$\n",
    "the derivative can be calculated using\n",
    "$$ \\partial_k F_k\n",
    "= \\sum_r \\partial_k f_r e^{-ikr}\n",
    "= \\sum_r (-ir) f_r e^{-ikr}$$"
   ]
  },
  {
   "cell_type": "code",
   "execution_count": 7,
   "metadata": {},
   "outputs": [],
   "source": [
    "@numba.njit\n",
    "def chern_P(Hk_func, Norb, params, Nk=256):\n",
    "    \"\"\"Calculate the Chern number using the projector representation.\n",
    "\n",
    "    Parameters\n",
    "    ----------\n",
    "    Hk_func : function\n",
    "        Function that returns the Hamiltonian matrix.\n",
    "    Norb : int\n",
    "        Dimension of Hamiltonian matrix.\n",
    "    params : list\n",
    "        List of parameters.\n",
    "    Nk : int\n",
    "        Number of k-points in each direction.\n",
    "\n",
    "    Returns\n",
    "    -------\n",
    "    C : float\n",
    "        Chern number.\n",
    "    \"\"\"\n",
    "    k = 2*np.pi/Nk * np.arange(Nk)\n",
    "    Pk = np.empty((Nk, Nk, Norb, Norb), np.complex128)\n",
    "    for i in range(Nk):\n",
    "        for j in range(Nk):\n",
    "            # Diagonalize Hamiltonian\n",
    "            Hk = Hk_func((k[i], k[j]), params)\n",
    "            Ek, psik = np.linalg.eigh(Hk)\n",
    "            # Get occupied states (energy < 0)\n",
    "            n = np.searchsorted(Ek, 0)\n",
    "            psi = psik[:,:n]\n",
    "            # Calculate projection\n",
    "            Pk[i,j] = psi.dot(psi.T.conj())\n",
    "\n",
    "    # Use object mode since numba doesn't have FFT\n",
    "    with numba.objmode(d1Pk='complex128[:,:,:,:]', d2Pk='complex128[:,:,:,:]'):\n",
    "        # Calculate x derivative\n",
    "        x = np.fft.fftfreq(Nk, 1/Nk).reshape(-1, 1, 1, 1)\n",
    "        d1Pk = np.fft.fft(-1j*x*np.fft.ifft(Pk, axis=0), axis=0)\n",
    "        \n",
    "        # Calculate y derivative\n",
    "        y = np.fft.fftfreq(Nk, 1/Nk).reshape(1, -1, 1, 1)\n",
    "        d2Pk = np.fft.fft(-1j*y*np.fft.ifft(Pk, axis=1), axis=1)\n",
    "\n",
    "    # Integrate\n",
    "    C = 0\n",
    "    for i in range(Nk):\n",
    "        for j in range(Nk):\n",
    "            comm = d1Pk[i,j].dot(d2Pk[i,j]) - d2Pk[i,j].dot(d1Pk[i,j])\n",
    "            C += np.trace(Pk[i,j].dot(comm).imag)\n",
    "    C *= (2*np.pi/Nk)**2 / (2*np.pi)\n",
    "    \n",
    "    return C"
   ]
  },
  {
   "cell_type": "code",
   "execution_count": 8,
   "metadata": {},
   "outputs": [
    {
     "name": "stderr",
     "output_type": "stream",
     "text": [
      "<ipython-input-7-3da427086311>:32: NumbaPerformanceWarning: \u001b[1m\u001b[1m\u001b[1mnp.dot() is faster on contiguous arrays, called on (array(complex128, 2d, A), array(complex128, 2d, C))\u001b[0m\u001b[0m\u001b[0m\n",
      "  Pk[i,j] = psi.dot(psi.T.conj())\n",
      "<ipython-input-7-3da427086311>:48: NumbaPerformanceWarning: \u001b[1m\u001b[1m\u001b[1mnp.dot() is faster on contiguous arrays, called on (array(complex128, 2d, A), array(complex128, 2d, A))\u001b[0m\u001b[0m\u001b[0m\n",
      "  comm = d1Pk[i,j].dot(d2Pk[i,j]) - d2Pk[i,j].dot(d1Pk[i,j])\n"
     ]
    },
    {
     "data": {
      "text/plain": [
       "-0.999999999999969"
      ]
     },
     "execution_count": 8,
     "metadata": {},
     "output_type": "execute_result"
    }
   ],
   "source": [
    "chern_P(calc_Hk, 4, params, Nk)"
   ]
  },
  {
   "cell_type": "markdown",
   "metadata": {},
   "source": [
    "# Fukui Hatsugai Suzuki algorithm\n",
    "\n",
    "https://journals.jps.jp/doi/10.1143/JPSJ.74.1674"
   ]
  },
  {
   "cell_type": "code",
   "execution_count": 9,
   "metadata": {},
   "outputs": [],
   "source": [
    "@numba.njit\n",
    "def chern_FHS(Hk_func, Norb, params, Nk=32):\n",
    "    \"\"\"Calculate the Chern number using the Fukui Hatsugai Suzuki algorithm.\n",
    "\n",
    "    Parameters\n",
    "    ----------\n",
    "    Hk_func : function\n",
    "        Function that returns the Hamiltonian matrix.\n",
    "    Norb : int\n",
    "        Dimension of Hamiltonian matrix.\n",
    "    params : list\n",
    "        List of parameters.\n",
    "    Nk : int\n",
    "        Number of k-points in each direction.\n",
    "\n",
    "    Returns\n",
    "    -------\n",
    "    C : ndarray\n",
    "        Chern number of each band.\n",
    "    \"\"\"\n",
    "    k = 2*np.pi/Nk * np.arange(Nk)\n",
    "    nk = np.empty((Nk, Nk, Norb, Norb), np.complex128)\n",
    "    for i in range(Nk):\n",
    "        for j in range(Nk):\n",
    "            # Calculate wavefunctions\n",
    "            Hk = Hk_func((k[i], k[j]), params)\n",
    "            Ek, nk[i,j] = np.linalg.eigh(Hk)\n",
    "\n",
    "    U1 = np.empty((Norb, Nk, Nk), np.complex128)\n",
    "    U2 = np.empty((Norb, Nk, Nk), np.complex128)\n",
    "    for i in range(Nk):\n",
    "        for j in range(Nk):\n",
    "            for n in range(Norb):\n",
    "                # Get n-th wavefunction at k, k+δk_1, k+δk_2\n",
    "                nk0 = nk[i,j,:,n]\n",
    "                nk1 = nk[(i+1)%Nk,j,:,n]\n",
    "                nk2 = nk[i,(j+1)%Nk,:,n]\n",
    "                \n",
    "                # Calculate U(1) link variable for each direction\n",
    "                U1[n,i,j] = nk0.conj().dot(nk1)\n",
    "                U1[n,i,j] /= np.abs(U1[n,i,j])\n",
    "                \n",
    "                U2[n,i,j] = nk0.conj().dot(nk2)\n",
    "                U2[n,i,j] /= np.abs(U2[n,i,j])\n",
    "                \n",
    "    \n",
    "    C = np.zeros(Norb)\n",
    "    for n in range(Norb):\n",
    "        for i in range(Nk):\n",
    "            for j in range(Nk):\n",
    "                # Calculate lattice field strength\n",
    "                F12 = np.log(U1[n,i,j] * U2[n,(i+1)%Nk,j] / (U1[n,i,(j+1)%Nk] * U2[n,i,j])).imag\n",
    "                \n",
    "                # Sum\n",
    "                C[n] += F12\n",
    "\n",
    "    return C / (2*np.pi)"
   ]
  },
  {
   "cell_type": "code",
   "execution_count": 10,
   "metadata": {},
   "outputs": [
    {
     "name": "stderr",
     "output_type": "stream",
     "text": [
      "<ipython-input-9-c92d845111c8>:40: NumbaPerformanceWarning: \u001b[1m\u001b[1m\u001b[1mnp.dot() is faster on contiguous arrays, called on (array(complex128, 1d, C), array(complex128, 1d, A))\u001b[0m\u001b[0m\u001b[0m\n",
      "  U1[n,i,j] = nk0.conj().dot(nk1)\n"
     ]
    },
    {
     "data": {
      "text/plain": [
       "array([ 3.04201367e-16, -1.00000000e+00,  1.00000000e+00,  5.92946019e-18])"
      ]
     },
     "execution_count": 10,
     "metadata": {},
     "output_type": "execute_result"
    }
   ],
   "source": [
    "chern_FHS(calc_Hk, 4, params, Nk)"
   ]
  },
  {
   "cell_type": "code",
   "execution_count": 11,
   "metadata": {},
   "outputs": [
    {
     "name": "stdout",
     "output_type": "stream",
     "text": [
      "501 ms ± 967 µs per loop (mean ± std. dev. of 7 runs, 1 loop each)\n"
     ]
    }
   ],
   "source": [
    "%timeit chern_P(calc_Hk, 4, params, Nk)"
   ]
  },
  {
   "cell_type": "code",
   "execution_count": 12,
   "metadata": {},
   "outputs": [
    {
     "name": "stdout",
     "output_type": "stream",
     "text": [
      "363 ms ± 1.3 ms per loop (mean ± std. dev. of 7 runs, 1 loop each)\n"
     ]
    }
   ],
   "source": [
    "%timeit chern_FHS(calc_Hk, 4, params, Nk)"
   ]
  },
  {
   "cell_type": "code",
   "execution_count": 13,
   "metadata": {},
   "outputs": [],
   "source": [
    "# Compare Chern number for different size grids\n",
    "Nks = np.array([16, 32, 64, 128, 256])\n",
    "C_P = np.empty(Nks.size)\n",
    "C_FHS = np.empty(Nks.size)\n",
    "for i, Nk in enumerate(Nks):\n",
    "    C_P[i] = chern_P(calc_Hk, 4, params, Nk)\n",
    "    # Sum of occupied bands\n",
    "    C_FHS[i] = chern_FHS(calc_Hk, 4, params, Nk)[:2].sum()"
   ]
  },
  {
   "cell_type": "code",
   "execution_count": 14,
   "metadata": {},
   "outputs": [
    {
     "data": {
      "image/png": "[encoded data removed]",
      "text/plain": [
       "<Figure size 432x288 with 1 Axes>"
      ]
     },
     "metadata": {
      "needs_background": "light"
     },
     "output_type": "display_data"
    }
   ],
   "source": [
    "fig, ax = plt.subplots()\n",
    "ax.loglog(Nks, np.abs(-1 - C_P))\n",
    "ax.loglog(Nks, np.abs(-1 - C_FHS))\n",
    "plt.show()"
   ]
  },
  {
   "cell_type": "markdown",
   "metadata": {},
   "source": [
    "# Real-space Chern number"
   ]
  },
  {
   "cell_type": "code",
   "execution_count": 15,
   "metadata": {},
   "outputs": [],
   "source": [
    "# Pauli matrices and tensor products\n",
    "pauli=np.array([\n",
    "    [[1, 0], [0, 1]],\n",
    "    [[0, 1], [1, 0]],\n",
    "    [[0, -1j], [1j, 0]],\n",
    "    [[1, 0], [0, -1]]])\n",
    "tzs0 = np.kron(pauli[3], pauli[0])\n",
    "tzsx = np.kron(pauli[3], pauli[1])\n",
    "tzsy = np.kron(pauli[3], pauli[2])\n",
    "t0sx = np.kron(pauli[0], pauli[1])\n",
    "t0sy = np.kron(pauli[0], pauli[2])\n",
    "t0sz = np.kron(pauli[0], pauli[3])\n",
    "txs0 = np.kron(pauli[1], pauli[0])\n",
    "\n",
    "def hamiltonian(params, N=32):\n",
    "    \"\"\"Calculate the Hamiltonian matrix in real-space.\n",
    "\n",
    "    Uses the spinor:\n",
    "    ψ† = (c†↑, c†↓, c↓, -c↑)\n",
    "\n",
    "    Parameters\n",
    "    ----------\n",
    "    params : list\n",
    "        List of parameters [t, μ, α, Δ, J].\n",
    "        t - hopping\n",
    "        μ - chemical potential\n",
    "        α - Rashba coupling\n",
    "        Δ - superconducting order parameter\n",
    "        J - Zeeman/exchange coupling\n",
    "    N : int\n",
    "        Number of sites in each direction.\n",
    "\n",
    "    Returns\n",
    "    -------\n",
    "    H : ndarray\n",
    "        (N*N*4)x(N*N*4) Hamiltonian matrix in xyτσ space.\n",
    "    \"\"\"\n",
    "    t, mu, alpha, Delta, J = params    \n",
    "    \n",
    "    # Construct Hamiltonian with indices x, y, στ, x', y', στ'\n",
    "    H = np.zeros((N, N, 4, N, N, 4), complex)\n",
    "    for x, y in np.ndindex(N, N):\n",
    "        # onsite potential\n",
    "        H[x,y,:,x,y,:] = -mu * tzs0 + J * t0sz + Delta * txs0\n",
    "        # x and y hoppings\n",
    "        H[x,y,:,(x+1)%N,y,:] = -t * tzs0 + 1j*alpha * tzsy\n",
    "        H[x,y,:,x,(y+1)%N,:] = -t * tzs0 - 1j*alpha * tzsx\n",
    "        # Hermitian conjugates\n",
    "        H[(x+1)%N,y,:,x,y,:] = -t * tzs0 - 1j*alpha * tzsy\n",
    "        H[x,(y+1)%N,:,x,y,:] = -t * tzs0 + 1j*alpha * tzsx\n",
    "\n",
    "    # Reshape into matrix\n",
    "    return H.reshape(4*N*N, 4*N*N)"
   ]
  },
  {
   "cell_type": "code",
   "execution_count": 16,
   "metadata": {},
   "outputs": [],
   "source": [
    "N = 32\n",
    "H = hamiltonian(params, N)\n",
    "\n",
    "# Get the coordinates of each index\n",
    "coords = np.empty((2, N, N, 4))\n",
    "for x, y in np.ndindex(N, N):\n",
    "    coords[0,x,y,:] = x\n",
    "    coords[1,x,y,:] = y\n",
    "coords = coords.reshape(2, -1)"
   ]
  },
  {
   "cell_type": "markdown",
   "metadata": {},
   "source": [
    "We calculate the Chern number in k-space using the discretization\n",
    "$$ C = \\frac{1}{2\\pi i} \\left(\\frac{2\\pi}{N}\\right)^2 \\sum_k \\mathrm{Tr} P_k \\left[\n",
    "\\partial_{k_x} P_k, \\partial_{k_y} P_k\n",
    "\\right] $$\n",
    "\n",
    "We define the matrices\n",
    "$$ P = \\sum_k |k \\rangle P_k \\langle k| $$\n",
    "$$ \\delta_\\mu P = \\frac{2\\pi}{N} \\sum_k |k \\rangle \\partial_{k_\\mu} P_k \\langle k| $$\n",
    "$P$ is the full projector and is the direct sum of $P_k$, i.e. we create a large matrix with each k-point as a diagonal block.\n",
    "$$ P = \\begin{pmatrix}\n",
    "P_{k_1} & & \\\\\n",
    "& \\ddots & \\\\\n",
    "& & P_{k_M}\n",
    "\\end{pmatrix} $$\n",
    "\n",
    "The integral is now represented as a trace\n",
    "$$ C = \\frac{1}{2\\pi i} \\mathrm{Tr} P \\left[\n",
    "\\delta_{x} P, \\delta_{y} P\n",
    "\\right] $$\n",
    "\n",
    "Since the trace is invariant under transformations, we can calculate the $P$ and $\\delta_\\mu P$ matrices in real-space using Fourier transforms.\n",
    "\n",
    "$$ P_{rr'} = \\sum_{E_k^{(n)} < 0} \\langle r |\\psi^{(n)} \\rangle \\langle \\psi^{(n)} | r' \\rangle $$\n",
    "\n",
    "$$ \\delta_\\mu P_{rr'} = \\frac{2\\pi i}{N} (r'-r) \\cdot \\hat{\\mu} P_{rr'} $$\n",
    "\n",
    "We define\n",
    "$$ K_{rr'}^{(\\mu)} = \\frac{2\\pi}{N} (r'-r) \\cdot \\hat{\\mu} \\; J_{d}$$\n",
    "($J$ is the matrix of ones and $d$ is the dimension of $P_k$)\n",
    "\n",
    "The $\\delta_\\mu P$ matrices are the Hadamard (element-wise) product of $K^{(\\mu)}$ and $P$.\n",
    "$$ \\delta_\\mu P = i K^{(\\mu)} \\circ P $$"
   ]
  },
  {
   "cell_type": "code",
   "execution_count": 17,
   "metadata": {},
   "outputs": [],
   "source": [
    "@numba.njit\n",
    "def remainder(x, p):\n",
    "    \"\"\"Calculate mod(x+p/2, p) - p/2.\n",
    "\n",
    "    Parameters\n",
    "    ----------\n",
    "    x : float\n",
    "        Dividend.\n",
    "    p : float\n",
    "        Divisor.\n",
    "\n",
    "    Returns\n",
    "    -------\n",
    "    x : float\n",
    "        Remainder in (-p/2, p/2].\n",
    "    \"\"\"\n",
    "    while x > p/2:\n",
    "        x -= p\n",
    "    while x <= -p/2:\n",
    "        x += p\n",
    "    return x\n",
    "\n",
    "@numba.njit\n",
    "def kernel(coords):\n",
    "    \"\"\"Calculate the kernel matrix for the Chern number.\n",
    "\n",
    "    Parameters\n",
    "    ----------\n",
    "    coords : ndarray\n",
    "        (x,y) for each index.\n",
    "\n",
    "    Returns\n",
    "    -------\n",
    "    K1, K2 : ndarray\n",
    "        Kernel matrices.\n",
    "    \"\"\"\n",
    "    # Get number of indices\n",
    "    N = coords.shape[-1]\n",
    "    # Get size of each direction\n",
    "    N1 = np.ptp(coords[0]) + 1\n",
    "    N2 = np.ptp(coords[1]) + 1\n",
    "\n",
    "    K1 = np.empty((N, N))\n",
    "    K2 = np.empty((N, N))\n",
    "    for i in range(N):\n",
    "        for j in range(N):\n",
    "            K1[i,j] = 2*np.pi/N1 * remainder(coords[0,j] - coords[0,i], N1)\n",
    "            K2[i,j] = 2*np.pi/N2 * remainder(coords[1,j] - coords[1,i], N2)\n",
    "    return K1, K2\n",
    "\n",
    "def chern_RS(P, K1, K2):\n",
    "    \"\"\"Calculate the Chern number using the real-space method.\n",
    "\n",
    "    Parameters\n",
    "    ----------\n",
    "    P : ndarray\n",
    "        Projection matrix.\n",
    "    K1 : ndarray\n",
    "        Kernel matrix in 1 direction.\n",
    "    K2 : ndarray\n",
    "        Kernel matrix in 2 direction.\n",
    "\n",
    "    Returns\n",
    "    -------\n",
    "    C : float\n",
    "        Chern number.\n",
    "    \"\"\"\n",
    "    # Calculate commutator\n",
    "    d1P = K1*P\n",
    "    d2P = K2*P\n",
    "    comm = d1P.dot(d2P) - d2P.dot(d1P)\n",
    "    # Tr[A.B] = sum_{i,j} A_{ij} B_{ji}\n",
    "    Tr = np.sum((P * comm.T).imag)\n",
    "    return -Tr/(2*np.pi)"
   ]
  },
  {
   "cell_type": "code",
   "execution_count": 18,
   "metadata": {},
   "outputs": [],
   "source": [
    "# Calculate the projection matrix\n",
    "en, wf = np.linalg.eigh(H)\n",
    "P = wf[:,:2*N*N].dot(wf[:,:2*N*N].T.conj())"
   ]
  },
  {
   "cell_type": "code",
   "execution_count": 19,
   "metadata": {},
   "outputs": [],
   "source": [
    "K1, K2 = kernel(coords)"
   ]
  },
  {
   "cell_type": "code",
   "execution_count": 20,
   "metadata": {},
   "outputs": [
    {
     "data": {
      "text/plain": [
       "-0.9661804207243367"
      ]
     },
     "execution_count": 20,
     "metadata": {},
     "output_type": "execute_result"
    }
   ],
   "source": [
    "chern_RS(P, K1, K2)"
   ]
  },
  {
   "cell_type": "code",
   "execution_count": 21,
   "metadata": {},
   "outputs": [
    {
     "data": {
      "text/plain": [
       "-0.9661804207243767"
      ]
     },
     "execution_count": 21,
     "metadata": {},
     "output_type": "execute_result"
    }
   ],
   "source": [
    "chern_P(calc_Hk, 4, params, N)"
   ]
  },
  {
   "cell_type": "markdown",
   "metadata": {},
   "source": [
    "# Disorder and Chern number density\n",
    "\n",
    "We showed that the Chern number can be calculated in real-space using\n",
    "$$ C = \\frac{1}{2\\pi i} \\mathrm{Tr} P \\left[\n",
    "\\delta_{x} P, \\delta_{y} P\n",
    "\\right] $$\n",
    "\n",
    "Since the trace includes a sum over space, we can look at the summand of the trace\n",
    "$$ C = \\frac{1}{2\\pi i} \\sum_r \\langle r | \\mathrm{Tr}_{d} P \\left[\n",
    "\\delta_{x} P, \\delta_{y} P\n",
    "\\right] | r \\rangle $$\n",
    "where $\\mathrm{Tr}_d$ is a partial trace over internal degrees of freedom.\n",
    "We call this the Chern number density.\n",
    "\n",
    "$$ C_r = \\frac{N^2}{2\\pi i} \\langle r | \\mathrm{Tr}_{d} P \\left[\n",
    "\\delta_{x} P, \\delta_{y} P\n",
    "\\right] | r \\rangle $$\n",
    "$$ C = \\frac{1}{N^2} \\sum_r C_r $$\n",
    "\n",
    "The factor $N^2$ is introduced so that the Chern number density doesn't scale with system size."
   ]
  },
  {
   "cell_type": "code",
   "execution_count": 22,
   "metadata": {},
   "outputs": [],
   "source": [
    "def disorder_hamiltonian(params, N=32, wJ=0, wU=0):\n",
    "    \"\"\"Calculate the Hamiltonian matrix in real-space with disorder.\n",
    "\n",
    "    Uses the spinor:\n",
    "    ψ† = (c†↑, c†↓, c↓, -c↑)\n",
    "\n",
    "    Parameters\n",
    "    ----------\n",
    "    params : list\n",
    "        List of parameters [t, μ, α, Δ, J].\n",
    "        t - hopping\n",
    "        μ - chemical potential\n",
    "        α - Rashba coupling\n",
    "        Δ - superconducting order parameter\n",
    "        J - Zeeman/exchange coupling\n",
    "    N : int\n",
    "        Number of sites in each direction.\n",
    "    wJ : float\n",
    "        Magnetic disorder strength.\n",
    "    wU : float\n",
    "        Potential disorder strength.\n",
    "\n",
    "    Returns\n",
    "    -------\n",
    "    H : ndarray\n",
    "        (N*N*4)x(N*N*4) Hamiltonian matrix in xyτσ space.\n",
    "    \"\"\"\n",
    "    t, mu, alpha, Delta, J = params    \n",
    "    \n",
    "    # Construct Hamiltonian with indices x, y, στ, x', y', στ'\n",
    "    H = np.zeros((N, N, 4, N, N, 4), complex)\n",
    "    for x, y in np.ndindex(N, N):\n",
    "        B = J + np.random.uniform(-wJ, wJ)\n",
    "        V = -mu + np.random.uniform(-wU, wU)\n",
    "        # onsite potential\n",
    "        H[x,y,:,x,y,:] = V * tzs0 + B * t0sz + Delta * txs0\n",
    "        # x and y hoppings\n",
    "        H[x,y,:,(x+1)%N,y,:] = -t * tzs0 + 1j*alpha * tzsy\n",
    "        H[x,y,:,x,(y+1)%N,:] = -t * tzs0 - 1j*alpha * tzsx\n",
    "        # Hermitian conjugates\n",
    "        H[(x+1)%N,y,:,x,y,:] = -t * tzs0 - 1j*alpha * tzsy\n",
    "        H[x,(y+1)%N,:,x,y,:] = -t * tzs0 + 1j*alpha * tzsx\n",
    "\n",
    "    # Reshape into matrix\n",
    "    return H.reshape(4*N*N, 4*N*N)\n",
    "\n",
    "def chern_density(P, K1, K2):\n",
    "    \"\"\"Calculate the Chern number density using the real-space method.\n",
    "\n",
    "    Parameters\n",
    "    ----------\n",
    "    P : ndarray\n",
    "        Projection matrix.\n",
    "    K1 : ndarray\n",
    "        Kernel matrix in 1 direction.\n",
    "    K2 : ndarray\n",
    "        Kernel matrix in 2 direction.\n",
    "\n",
    "    Returns\n",
    "    -------\n",
    "    C : float\n",
    "        Chern number.\n",
    "    \"\"\"\n",
    "    # Calculate commutator\n",
    "    d1P = K1*P\n",
    "    d2P = K2*P\n",
    "    comm = d1P.dot(d2P) - d2P.dot(d1P)\n",
    "    # Tr[A.B] = sum_{i,j} A_{ij} B_{ji}\n",
    "    Tr = np.sum((P * comm.T).imag, axis=1)\n",
    "    return -Tr/(2*np.pi)"
   ]
  },
  {
   "cell_type": "code",
   "execution_count": 23,
   "metadata": {},
   "outputs": [],
   "source": [
    "H = disorder_hamiltonian(params, N, wJ=0.1)\n",
    "# Calculate the projection matrix\n",
    "en, wf = np.linalg.eigh(H)\n",
    "P = wf[:,:2*N*N].dot(wf[:,:2*N*N].T.conj())\n",
    "C_r = N*N*chern_density(P, K1, K2).reshape(N, N, 4).sum(-1)"
   ]
  },
  {
   "cell_type": "code",
   "execution_count": 24,
   "metadata": {},
   "outputs": [
    {
     "data": {
      "image/png": "[encoded data removed]",
      "text/plain": [
       "<Figure size 432x288 with 2 Axes>"
      ]
     },
     "metadata": {
      "needs_background": "light"
     },
     "output_type": "display_data"
    }
   ],
   "source": [
    "vmax = np.abs(-1 - C_r).max()\n",
    "fig, ax = plt.subplots()\n",
    "im = ax.imshow(C_r, vmin=-1-vmax, vmax=-1+vmax, cmap='RdBu')\n",
    "fig.colorbar(im, ax=ax)\n",
    "plt.show()"
   ]
  },
  {
   "cell_type": "code",
   "execution_count": 25,
   "metadata": {},
   "outputs": [
    {
     "data": {
      "text/plain": [
       "-0.9653280218803255"
      ]
     },
     "execution_count": 25,
     "metadata": {},
     "output_type": "execute_result"
    }
   ],
   "source": [
    "C_r.mean()"
   ]
  },
  {
   "cell_type": "code",
   "execution_count": null,
   "metadata": {},
   "outputs": [],
   "source": []
  }
 ],
 "metadata": {
  "kernelspec": {
   "display_name": "Python (kwant)",
   "language": "python",
   "name": "kwant"
  },
  "language_info": {
   "codemirror_mode": {
    "name": "ipython",
    "version": 3
   },
   "file_extension": ".py",
   "mimetype": "text/x-python",
   "name": "python",
   "nbconvert_exporter": "python",
   "pygments_lexer": "ipython3",
   "version": "3.8.3"
  }
 },
 "nbformat": 4,
 "nbformat_minor": 4
}
